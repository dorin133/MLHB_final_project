{
 "cells": [
  {
   "cell_type": "code",
   "execution_count": null,
   "metadata": {},
   "outputs": [],
   "source": [
    "%load_ext autoreload\n",
    "%autoreload 2"
   ]
  },
  {
   "cell_type": "markdown",
   "metadata": {},
   "source": [
    "# Background and Research Question"
   ]
  },
  {
   "cell_type": "markdown",
   "metadata": {},
   "source": [
    "## IIA"
   ]
  },
  {
   "cell_type": "markdown",
   "metadata": {},
   "source": [
    "Independence of Irrelevant Alternatives (IIA) is a principle in decision theory that states that the preference between two options should not be affected by the presence or absence of a third option that is not relevant to the decision at hand.\n",
    "\n",
    "In the context of recommendation systems, IIA means that the ranking of items should not change based on the addition or removal of items that are not relevant to the user's preferences. In other words, if a user is given a set of items to choose from and they express a preference for one item over another, the introduction of additional items that are not relevant to their preferences should not change the relative ranking of the original items.\n",
    "\n",
    "Simple predictive models do not account for context effects, such as the dependence of choice behavior on the set of alternatives in a choice set. However, real world user choises are usually set dependent; violating IIA.\n",
    "\n",
    "In this study, we aim to study the relation between the learned model and the obtained user choices in its domain. Specifically, we will compare user choices under IIA vs. non-IIA prediction models, and try to observe if the learned model \"cause\" user choices to be more IIA, or vice versa.\n",
    "\n"
   ]
  },
  {
   "cell_type": "markdown",
   "metadata": {},
   "source": [
    "## Research Question"
   ]
  },
  {
   "cell_type": "markdown",
   "metadata": {},
   "source": [
    "<center>Do users make more IIA choices when using an IIA model compared to non-IIA model? If so, are user choices really set independent or is it a delusion caused by the IIA model?<center>"
   ]
  },
  {
   "cell_type": "markdown",
   "metadata": {},
   "source": [
    "## Hypothesis"
   ]
  },
  {
   "cell_type": "markdown",
   "metadata": {},
   "source": [
    "- We expect to observe IIA user choices in IIA domains    \n",
    "- More set dependent user choices in non IIA domains    \n",
    "- We expect that IIA user behavior is a delusion made by the IIA model recommendations – e.g. extreme score for chosen items?"
   ]
  },
  {
   "cell_type": "markdown",
   "metadata": {},
   "source": [
    "# Environment setup"
   ]
  },
  {
   "cell_type": "code",
   "execution_count": null,
   "metadata": {},
   "outputs": [],
   "source": [
    "# import numpy as np\n",
    "# import matplotlib.pyplot as plt\n",
    "# import pandas as pd\n",
    "# import abc\n",
    "# import itertools\n",
    "# from sklearn import svm, linear_model\n",
    "# import pandas as pd\n",
    "# import sys\n",
    "\n",
    "from ContextChoiceEnv import *\n",
    "from UserModel import *\n",
    "\n",
    "\n",
    "from collections import OrderedDict\n",
    "\n",
    "%config InlineBackend.figure_format = 'retina'"
   ]
  },
  {
   "cell_type": "code",
   "execution_count": null,
   "metadata": {},
   "outputs": [],
   "source": [
    "env = ContextChoiceEnvironment()\n",
    "env.inspect_data(\"current\")"
   ]
  },
  {
   "cell_type": "markdown",
   "metadata": {},
   "source": [
    "# Experiments"
   ]
  },
  {
   "cell_type": "markdown",
   "metadata": {},
   "source": [
    "## MNL model"
   ]
  },
  {
   "cell_type": "markdown",
   "metadata": {},
   "source": [
    "<center> <img src=\"imgs/MNL.jpg\" /><center>"
   ]
  },
  {
   "cell_type": "markdown",
   "metadata": {},
   "source": [
    "### MNL training"
   ]
  },
  {
   "cell_type": "code",
   "execution_count": null,
   "metadata": {},
   "outputs": [],
   "source": [
    "from mnl import train_logistic_regression_models\n",
    "env = TrainContextChoiceEnvironment()\n",
    "# generate data\n",
    "X_train, X_test, y_train, y_test = env.generate_datasets(num_features=5, num_items=7)\n",
    "# print(X_train)\n",
    "# print(y_train)\n",
    "models, mnl_fit_results = train_logistic_regression_models(X_train, X_test, y_train, y_test)\n",
    "print(mnl_fit_results)"
   ]
  },
  {
   "cell_type": "code",
   "execution_count": null,
   "metadata": {},
   "outputs": [],
   "source": [
    "from mnl import recommend_items\n",
    "# print(X_test)\n",
    "recommendations_features, recommendations_indices = recommend_items(models['Rational'], X_test)\n",
    "print(recommendations_features)\n",
    "print(recommendations_indices)"
   ]
  },
  {
   "cell_type": "markdown",
   "metadata": {},
   "source": [
    "### MNL domain - IIA evaluation"
   ]
  },
  {
   "cell_type": "markdown",
   "metadata": {},
   "source": [
    "## Mixed MNL Model\n"
   ]
  },
  {
   "cell_type": "markdown",
   "metadata": {},
   "source": [
    "# Discussion"
   ]
  },
  {
   "attachments": {},
   "cell_type": "markdown",
   "metadata": {},
   "source": [
    "# References"
   ]
  },
  {
   "attachments": {},
   "cell_type": "markdown",
   "metadata": {},
   "source": [
    "- Benson,A.  Kumar,R , Tomkins,A: On the Relevance of Irrelevant Alternatives, https://www.cs.cornell.edu/~arb/papers/iia-www2016.pdf\n",
    "- Rosenfelt,N. Oshiba,K. Singer,Y: Predicting Choice with Set-Dependent Aggregation http://proceedings.mlr.press/v119/rosenfeld20a/rosenfeld20a.pdf"
   ]
  },
  {
   "cell_type": "markdown",
   "metadata": {},
   "source": []
  }
 ],
 "metadata": {
  "kernelspec": {
   "display_name": "Python 3 (ipykernel)",
   "language": "python",
   "name": "python3"
  },
  "language_info": {
   "codemirror_mode": {
    "name": "ipython",
    "version": 3
   },
   "file_extension": ".py",
   "mimetype": "text/x-python",
   "name": "python",
   "nbconvert_exporter": "python",
   "pygments_lexer": "ipython3",
   "version": "3.10.4"
  },
  "vscode": {
   "interpreter": {
    "hash": "aee8b7b246df8f9039afb4144a1f6fd8d2ca17a180786b69acc140d282b71a49"
   }
  }
 },
 "nbformat": 4,
 "nbformat_minor": 4
}
